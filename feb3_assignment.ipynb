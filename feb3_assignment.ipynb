{
 "cells": [
  {
   "cell_type": "code",
   "execution_count": 1,
   "id": "dcb31eda-77e1-43ac-a4da-acf457cbefdd",
   "metadata": {},
   "outputs": [],
   "source": [
    "#feb 3 assignment"
   ]
  },
  {
   "cell_type": "code",
   "execution_count": null,
   "id": "c01a8486-2683-470f-a359-007c4a2405cb",
   "metadata": {},
   "outputs": [],
   "source": [
    "#Q1 \n",
    "#def keyword is used to create \n",
    "l=[]\n",
    "def fxn():\n",
    "    for i in range(1,26):\n",
    "        if(i%2!=0):\n",
    "            l.append(i)\n",
    "    return l\n",
    "\n"
   ]
  },
  {
   "cell_type": "code",
   "execution_count": null,
   "id": "09ef61a1-a295-4de7-b202-3da1e49b6b4e",
   "metadata": {},
   "outputs": [],
   "source": [
    "fxn()\n",
    "    "
   ]
  },
  {
   "cell_type": "code",
   "execution_count": 10,
   "id": "86693772-5d23-49ca-976b-3ecd09e503c7",
   "metadata": {},
   "outputs": [],
   "source": [
    "\n",
    "\n",
    "\n",
    "#q2\n",
    "#*args is used for passing multiple values in fxn we can used in name intead of args it return everything in tuple\n",
    "#**kwargs is used to return a dictionary\n"
   ]
  },
  {
   "cell_type": "code",
   "execution_count": 11,
   "id": "855a72a4-854e-43cc-bc6c-e323d10c92f8",
   "metadata": {},
   "outputs": [],
   "source": [
    "def fxn1(*args):\n",
    "    return args"
   ]
  },
  {
   "cell_type": "code",
   "execution_count": 13,
   "id": "505083fd-1f36-4871-b79c-efb4e2ca994c",
   "metadata": {},
   "outputs": [
    {
     "data": {
      "text/plain": [
       "(1, 3, 4, 'n', [2, 3, 4], 'n', 'g')"
      ]
     },
     "execution_count": 13,
     "metadata": {},
     "output_type": "execute_result"
    }
   ],
   "source": [
    "fxn1(1,3,4,\"n\",[2,3,4],\"n\",\"g\")"
   ]
  },
  {
   "cell_type": "code",
   "execution_count": 14,
   "id": "f6a9ef2c-5084-4fe0-a170-cb95653024ff",
   "metadata": {},
   "outputs": [],
   "source": [
    "def fxn2(**kwargs):\n",
    "    return kwargs"
   ]
  },
  {
   "cell_type": "code",
   "execution_count": 17,
   "id": "214ba4b0-9046-4dd2-bdda-3b58b69e30ad",
   "metadata": {},
   "outputs": [
    {
     "data": {
      "text/plain": [
       "{'name': 'neeraj', 'course': 'data science'}"
      ]
     },
     "execution_count": 17,
     "metadata": {},
     "output_type": "execute_result"
    }
   ],
   "source": [
    "fxn2(name=\"neeraj\",course=\"data science\")"
   ]
  },
  {
   "cell_type": "markdown",
   "id": "ec27cfb7-8339-4dbf-9103-dfef01c0fa7b",
   "metadata": {},
   "source": [
    "\"\"\"q3\n",
    "iterator in python:\n",
    "an iterator is an object used for travelling through all values\n",
    "iter() method is used to intialize the iterator object\n",
    "\"\"\"\n"
   ]
  },
  {
   "cell_type": "code",
   "execution_count": 2,
   "id": "638d947c-3279-4445-b2ac-76f3caf235f8",
   "metadata": {},
   "outputs": [],
   "source": [
    "list1=[2,4,6,8,10,12,14,16,18,20]"
   ]
  },
  {
   "cell_type": "code",
   "execution_count": 3,
   "id": "2f989b2f-87e8-4018-9b37-e3e74201a843",
   "metadata": {},
   "outputs": [],
   "source": [
    "a=iter(list1)"
   ]
  },
  {
   "cell_type": "code",
   "execution_count": 5,
   "id": "ff88f6d3-5869-41ce-892d-c12350f88d76",
   "metadata": {},
   "outputs": [
    {
     "name": "stdout",
     "output_type": "stream",
     "text": [
      "2\n"
     ]
    }
   ],
   "source": [
    "print(next(a))"
   ]
  },
  {
   "cell_type": "code",
   "execution_count": 6,
   "id": "3262686b-ac1e-4b32-a518-33d324aa6c61",
   "metadata": {},
   "outputs": [
    {
     "name": "stdout",
     "output_type": "stream",
     "text": [
      "4\n"
     ]
    }
   ],
   "source": [
    "print(next(a))"
   ]
  },
  {
   "cell_type": "code",
   "execution_count": 7,
   "id": "e2dbfa09-ffef-4495-a998-f3cdac210cdd",
   "metadata": {},
   "outputs": [
    {
     "name": "stdout",
     "output_type": "stream",
     "text": [
      "6\n",
      "8\n",
      "10\n"
     ]
    }
   ],
   "source": [
    "print(next(a))\n",
    "print(next(a))\n",
    "print(next(a))"
   ]
  },
  {
   "cell_type": "markdown",
   "id": "12f5b687-f182-49f5-8009-ffa6ceb7eb01",
   "metadata": {},
   "source": [
    "#q4\n",
    "#q4\n",
    "generator fxn: It is used for utilizing the memory.It does not store all the value and provide the output instead of that it genrates one by one output\n",
    "yield: it is a special reserved keyword which help in creating generator function "
   ]
  },
  {
   "cell_type": "code",
   "execution_count": null,
   "id": "cf97a5e6-28ae-4310-ad41-fd4ff0cdde58",
   "metadata": {},
   "outputs": [],
   "source": [
    "#q5\n",
    "\n",
    "\n"
   ]
  },
  {
   "cell_type": "code",
   "execution_count": 1,
   "id": "122bc97f-2229-45af-8793-2bb23246e12c",
   "metadata": {},
   "outputs": [],
   "source": [
    "#q5\n",
    "def is_prime(n):\n",
    "    if (n <= 1):\n",
    "        return False\n",
    "    if (n == 2):\n",
    "        return True\n",
    "    if (n % 2 == 0):\n",
    "        return False\n",
    "\n",
    "\n"
   ]
  },
  {
   "cell_type": "code",
   "execution_count": 5,
   "id": "05fce250-75d2-45d3-9d30-f613ccb083af",
   "metadata": {},
   "outputs": [
    {
     "ename": "NameError",
     "evalue": "name 'prime_genera' is not defined",
     "output_type": "error",
     "traceback": [
      "\u001b[0;31m---------------------------------------------------------------------------\u001b[0m",
      "\u001b[0;31mNameError\u001b[0m                                 Traceback (most recent call last)",
      "Cell \u001b[0;32mIn[5], line 8\u001b[0m\n\u001b[1;32m      5\u001b[0m         \u001b[38;5;28;01mif\u001b[39;00m is_prime(n):\n\u001b[1;32m      6\u001b[0m             \u001b[38;5;28;01myield\u001b[39;00m n\n\u001b[0;32m----> 8\u001b[0m generator \u001b[38;5;241m=\u001b[39m \u001b[43mprime_genera\u001b[49m\n",
      "\u001b[0;31mNameError\u001b[0m: name 'prime_genera' is not defined"
     ]
    }
   ],
   "source": [
    "def prime_generator():\n",
    "    n = 1\n",
    "    while True:\n",
    "        n += 1\n",
    "        if is_prime(n):\n",
    "            yield n\n",
    "        \n",
    "generator = prime_genera"
   ]
  },
  {
   "cell_type": "code",
   "execution_count": 6,
   "id": "b1710c89-0504-4f7b-983f-d1876a23909f",
   "metadata": {},
   "outputs": [
    {
     "ename": "NameError",
     "evalue": "name 'generator' is not defined",
     "output_type": "error",
     "traceback": [
      "\u001b[0;31m---------------------------------------------------------------------------\u001b[0m",
      "\u001b[0;31mNameError\u001b[0m                                 Traceback (most recent call last)",
      "Cell \u001b[0;32mIn[6], line 2\u001b[0m\n\u001b[1;32m      1\u001b[0m \u001b[38;5;28;01mfor\u001b[39;00m i \u001b[38;5;129;01min\u001b[39;00m \u001b[38;5;28mrange\u001b[39m(\u001b[38;5;241m100\u001b[39m):\n\u001b[0;32m----> 2\u001b[0m     \u001b[38;5;28mprint\u001b[39m(\u001b[38;5;28mnext\u001b[39m(\u001b[43mgenerator\u001b[49m))\n",
      "\u001b[0;31mNameError\u001b[0m: name 'generator' is not defined"
     ]
    }
   ],
   "source": [
    "for i in range(100):\n",
    "    print(next(generator))\n"
   ]
  },
  {
   "cell_type": "code",
   "execution_count": 4,
   "id": "86ecc9bf-b2e6-4d0f-898e-158f0e74f2a6",
   "metadata": {},
   "outputs": [
    {
     "name": "stdout",
     "output_type": "stream",
     "text": [
      "0\n",
      "1\n",
      "1\n",
      "2\n",
      "3\n",
      "5\n",
      "8\n",
      "13\n",
      "21\n",
      "34\n",
      "55\n"
     ]
    }
   ],
   "source": [
    "n=11\n",
    "n1=0\n",
    "n2=1\n",
    "count=0\n",
    "while count < n:\n",
    "        print(n1)  \n",
    "        nth = n1 + n2    \n",
    "        n1 = n2\n",
    "        n2 = nth  \n",
    "        count += 1  \n",
    "    "
   ]
  },
  {
   "cell_type": "code",
   "execution_count": 1,
   "id": "007fe0e5-4676-47cf-9f9f-f49e71de088a",
   "metadata": {},
   "outputs": [],
   "source": [
    "#q7"
   ]
  },
  {
   "cell_type": "code",
   "execution_count": 8,
   "id": "f0bf3328-0bcb-44a2-9fc6-56d6d72bf28c",
   "metadata": {},
   "outputs": [
    {
     "name": "stdout",
     "output_type": "stream",
     "text": [
      "['p', 'w', 's', 'k', 'i', 'l', 'l', 's']\n"
     ]
    }
   ],
   "source": [
    "s='pwskills'\n",
    "a=[i for i in s]\n",
    "print(a)"
   ]
  },
  {
   "cell_type": "code",
   "execution_count": null,
   "id": "5851bc28-67e7-4fea-98f3-9e15326e841a",
   "metadata": {},
   "outputs": [],
   "source": [
    "#q6 palindrome number"
   ]
  },
  {
   "cell_type": "code",
   "execution_count": 9,
   "id": "de3ae595-6335-4c0a-aaab-f1865a778b70",
   "metadata": {},
   "outputs": [
    {
     "name": "stdin",
     "output_type": "stream",
     "text": [
      "Enter number: 333\n"
     ]
    },
    {
     "name": "stdout",
     "output_type": "stream",
     "text": [
      "The number is a palindrome no.\n"
     ]
    }
   ],
   "source": [
    "n=int(input(\"Enter number:\"))\n",
    "temp=n\n",
    "rev=0\n",
    "while(n>0):\n",
    "    dig=n%10\n",
    "    rev=rev*10+dig\n",
    "    n=n//10\n",
    "if(temp==rev):\n",
    "        print(\"The number is a palindrome no.\")\n",
    "else:\n",
    "    print(\"The number isn't a palindrome no.\")"
   ]
  },
  {
   "cell_type": "code",
   "execution_count": 10,
   "id": "6bc4cb5f-65f4-42af-8a55-2e47fb866105",
   "metadata": {},
   "outputs": [
    {
     "data": {
      "text/plain": [
       "[1,\n",
       " 3,\n",
       " 5,\n",
       " 7,\n",
       " 9,\n",
       " 11,\n",
       " 13,\n",
       " 15,\n",
       " 17,\n",
       " 19,\n",
       " 21,\n",
       " 23,\n",
       " 25,\n",
       " 27,\n",
       " 29,\n",
       " 31,\n",
       " 33,\n",
       " 35,\n",
       " 37,\n",
       " 39,\n",
       " 41,\n",
       " 43,\n",
       " 45,\n",
       " 47,\n",
       " 49,\n",
       " 51,\n",
       " 53,\n",
       " 55,\n",
       " 57,\n",
       " 59,\n",
       " 61,\n",
       " 63,\n",
       " 65,\n",
       " 67,\n",
       " 69,\n",
       " 71,\n",
       " 73,\n",
       " 75,\n",
       " 77,\n",
       " 79,\n",
       " 81,\n",
       " 83,\n",
       " 85,\n",
       " 87,\n",
       " 89,\n",
       " 91,\n",
       " 93,\n",
       " 95,\n",
       " 97,\n",
       " 99]"
      ]
     },
     "execution_count": 10,
     "metadata": {},
     "output_type": "execute_result"
    }
   ],
   "source": [
    "[i for i in range(0,101) if i%2!=0]"
   ]
  },
  {
   "cell_type": "code",
   "execution_count": null,
   "id": "264f6d2d-d7bc-466f-82a2-1f640ca9e791",
   "metadata": {},
   "outputs": [],
   "source": []
  }
 ],
 "metadata": {
  "kernelspec": {
   "display_name": "Python 3 (ipykernel)",
   "language": "python",
   "name": "python3"
  },
  "language_info": {
   "codemirror_mode": {
    "name": "ipython",
    "version": 3
   },
   "file_extension": ".py",
   "mimetype": "text/x-python",
   "name": "python",
   "nbconvert_exporter": "python",
   "pygments_lexer": "ipython3",
   "version": "3.10.8"
  }
 },
 "nbformat": 4,
 "nbformat_minor": 5
}
